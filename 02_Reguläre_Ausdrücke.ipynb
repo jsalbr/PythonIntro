{
 "cells": [
  {
   "cell_type": "markdown",
   "metadata": {
    "toc": true
   },
   "source": [
    "<h1>Table of Contents<span class=\"tocSkip\"></span></h1>\n",
    "<div class=\"toc\"><ul class=\"toc-item\"><li><span><a href=\"#Reguläre-Ausdrücke\" data-toc-modified-id=\"Reguläre-Ausdrücke-1\"><span class=\"toc-item-num\">1&nbsp;&nbsp;</span>Reguläre Ausdrücke</a></span></li><li><span><a href=\"#Reguläre-Ausdrücke-in-Python\" data-toc-modified-id=\"Reguläre-Ausdrücke-in-Python-2\"><span class=\"toc-item-num\">2&nbsp;&nbsp;</span>Reguläre Ausdrücke in Python</a></span><ul class=\"toc-item\"><li><span><a href=\"#re.match(pattern,-string)\" data-toc-modified-id=\"re.match(pattern,-string)-2.1\"><span class=\"toc-item-num\">2.1&nbsp;&nbsp;</span>re.match(pattern, string)</a></span></li><li><span><a href=\"#re.search(pattern,-string)\" data-toc-modified-id=\"re.search(pattern,-string)-2.2\"><span class=\"toc-item-num\">2.2&nbsp;&nbsp;</span>re.search(pattern, string)</a></span></li><li><span><a href=\"#re.findall-(pattern,-string):\" data-toc-modified-id=\"re.findall-(pattern,-string):-2.3\"><span class=\"toc-item-num\">2.3&nbsp;&nbsp;</span>re.findall (pattern, string):</a></span></li><li><span><a href=\"#re.sub(pattern,-replacement,-string):\" data-toc-modified-id=\"re.sub(pattern,-replacement,-string):-2.4\"><span class=\"toc-item-num\">2.4&nbsp;&nbsp;</span>re.sub(pattern, replacement, string):</a></span></li><li><span><a href=\"#Flags\" data-toc-modified-id=\"Flags-2.5\"><span class=\"toc-item-num\">2.5&nbsp;&nbsp;</span>Flags</a></span></li><li><span><a href=\"#Greedy-und-Reluctant-Behavior\" data-toc-modified-id=\"Greedy-und-Reluctant-Behavior-2.6\"><span class=\"toc-item-num\">2.6&nbsp;&nbsp;</span>Greedy und Reluctant Behavior</a></span></li></ul></li></ul></div>"
   ]
  },
  {
   "cell_type": "markdown",
   "metadata": {},
   "source": [
    "### Hilfsfunktionen und Einstellungen <div class=\"tocSkip\">\n",
    "\n",
    "**Bitte ausführen!!**\n",
    "\n",
    "Ermöglicht Ausgabe von mehren Ausdrücken ohne `print`, ansonsten wird immer nur der letzte Ausdruck ausgegeben. Eine nützliche Einstellung für Schreib-Faule."
   ]
  },
  {
   "cell_type": "code",
   "execution_count": null,
   "metadata": {
    "ExecuteTime": {
     "end_time": "2018-09-11T08:56:55.767515Z",
     "start_time": "2018-09-11T08:56:55.761519Z"
    },
    "collapsed": true
   },
   "outputs": [],
   "source": [
    "# IPython (Jupyter) setting: \n",
    "# Print out every value instead of just \"last_expr\" (default)\n",
    "from IPython.core.interactiveshell import InteractiveShell\n",
    "InteractiveShell.ast_node_interactivity = \"all\""
   ]
  },
  {
   "cell_type": "code",
   "execution_count": null,
   "metadata": {
    "ExecuteTime": {
     "end_time": "2018-09-11T08:56:55.794515Z",
     "start_time": "2018-09-11T08:56:55.770514Z"
    },
    "collapsed": true
   },
   "outputs": [],
   "source": [
    "my_string = \"Hallo\"\n",
    "my_len = len(my_string)\n",
    "\n",
    "my_string\n",
    "my_len"
   ]
  },
  {
   "cell_type": "markdown",
   "metadata": {},
   "source": [
    "\n",
    "# Reguläre Ausdrücke in Python  <div class=\"tocSkip\">\n",
    "\n",
    "Prof. Dr. Jens Albrecht, Dominik Wagner  \n",
    "Technische Hochschule Georg-Simon Ohm Nürnberg\n",
    "\n",
    "Dieses Notebook darf unter der Lizenz \n",
    "[Creative Commons Attribution-ShareAlike 4.0](http://creativecommons.org/licenses/by-sa/4.0/)\n",
    "weitergegeben und verändert werden.\n"
   ]
  },
  {
   "cell_type": "markdown",
   "metadata": {},
   "source": [
    "## Quellen und weiterführende Literatur <div class=\"tocSkip\">\n",
    "\n",
    "- Félix López, Víctor Romero: *Mastering Python Regular Expressions*, Packt Publishing, 2014\n",
    "- Reguläre Ausdrücke interaktiv konstruieren: https://regex101.com/\n",
    "- Python-Kurs: https://www.python-kurs.eu/re.php\n",
    "- Kompakte Einführung mit vielen Beispielen: https://www.analyticsvidhya.com/blog/2015/06/regular-expression-python/"
   ]
  },
  {
   "cell_type": "markdown",
   "metadata": {},
   "source": [
    "<a id=\"regex\"></a>\n",
    "## Reguläre Ausdrücke\n",
    "\n",
    "Reguläre Ausdrücke sind ein mächtiges Werkzeug, um Texte nach bestimmten Mustern zu durchsuchen und diese ggf. zu extrahieren oder zu modifizieren. Alle Programmiersprachen bieten Möglichkeiten, mit regulären Ausrücken zu arbeiten. Besonders in Skriptsprachen wie Python, Perl oder bei der Shell-Programmierung (z.B. Bash) wird häufig mit regulären Ausdrücken gearbeitet.\n",
    "\n",
    "Reguläre Ausdrücke werden z.B. für folgende Zwecke verwendet:\n",
    "- Prüfung ob Eingaben in HTML-Formularen den Vorgaben entsprechen (z.B. Postleitzahl oder Email-Adresse)\n",
    "- Suche nach dem Auftreten bestimmter Muster in Texten (z.B. Extraktion der Links aus `href`-Tags einer Webseite)\n",
    "- Extraktion bestimmter Teile von Text (z.B. nur die Vorwahl einer Telefonnummer)\n",
    "- Ersetzen bestimmter Textteile (z.B. Anonymisierung von Geheimzahlen durch \"\\*\\*\\*\\*\")\n",
    "- Zerlegung größerer Texte in kleinere Teile (z.B. in Absätze oder Worte)"
   ]
  },
  {
   "cell_type": "markdown",
   "metadata": {},
   "source": [
    "**Aufbau regulärer Ausdrücke**\n",
    "\n",
    "Das folgende Beispiel zeigt, wie mit einem einfachen regulären Ausdruck Zahlen aus einem String extrahiert werden können. Der reguläre Ausruck `[0-9]+` beschreibt dabei das Suchmuster."
   ]
  },
  {
   "cell_type": "code",
   "execution_count": null,
   "metadata": {
    "ExecuteTime": {
     "end_time": "2018-09-11T08:56:55.811516Z",
     "start_time": "2018-09-11T08:56:55.798515Z"
    },
    "collapsed": true
   },
   "outputs": [],
   "source": [
    "import re\n",
    "numbers = re.findall(r'[0-9]+', '90489 Nürnberg, Kesslerplatz 12')\n",
    "print(numbers)"
   ]
  },
  {
   "cell_type": "markdown",
   "metadata": {},
   "source": [
    "Die Prüfung eines einzelnen Zeichens auf eine Ziffer erfolgt über den Ausdruck ``[0-9]``, was äquivalent zu ``[01234567879]`` ist. Um Folgen von Zeichen zu matchen, gibt es verschiedene Quantoren, die einem einfachen Ausdruck hintenan gestellt werden können. Die folgende Tabelle gibt eine Übersicht über die verfügbaren Quantoren und deren Bedeutung.\n",
    "\n",
    " | Quantor         | Beschreibung                              |\n",
    " |--------------------------|------------------------------------|\n",
    " | ``?``                    | keine oder genau ein Auftreten des vorhergehenden Zeichens |\n",
    " | ``*``                    | Null oder mehr Wiederholungen      |\n",
    " | ``+``                    | Eine oder mehr Wiederholungen      |\n",
    " | ``{n,m}``                | Zwischen n und m Wiederholungen    |\n",
    " | ``{n}``                  | Genau n Wiederholungen    |"
   ]
  },
  {
   "cell_type": "markdown",
   "metadata": {},
   "source": [
    "Ein paar Beispiele illustrieren die Handhabung: \n",
    "\n",
    " | Ausdruck | Beispiele für Matches   | Beschreibung \n",
    " |----------|---------------|----------------\n",
    " | [abc]    | 'a', 'b', 'c' | ein Zeichen: a, b, oder c\n",
    " | (ab&#124;cd)  | 'ab' oder 'cd'| &#124; bezeichnet \"oder\" von Zeichenfolgen \n",
    " | [a-z]    | 'a', 'b', ..., 'z'  | Kleinbuchstabe - Vorsicht bei Umlauten!\n",
    " | [a-zäöüß] | 'a', 'z', 'ö', 'ü'   | Kleinbuchstabe einschließlich Umlauten \n",
    " | [A-Za-z]\\*  | 'Hallo', 'warum', 'aaBBcc', '' | Null oder mehr Wiederholungen von Groß- oder Kleinbuchstaben\n",
    " | [0-9]+   | '1', '2434', '76553' | eine oder mehr Wiederholungen von Ziffern\n",
    " | [0-9]?   | '', '0', '5'   | keine oder eine Ziffer\n",
    " | [0-9]{4} | '3415', '5423' | vierstellige Ziffernfolge\n",
    " | .*       | '', 'so, dass', 'Hallo123' | Beliebige Zeichenfolge (darf auch leer sein)\n",
    " | Ich .+ [Dd]ich | 'Ich liebe Dich', 'Ich hasse dich' | 'Ich', beliebige nicht-leere Zeichenfolge, 'Dich' bzw. 'dich'\n",
    " | H[^a]se | 'Hose', aber nicht 'Hase' | [^a] steht für \"nicht a\""
   ]
  },
  {
   "cell_type": "markdown",
   "metadata": {},
   "source": [
    "Im Kontext von regulären Ausdrücken existieren vordefinierte Zeichenklassen. Statt einzelner Zeichen definieren diese ganze Suchmuster. Die folgende Tabelle gibt einen Überblick über häufig verwendete Klassen. \n",
    "\n",
    " | Operator  | Beschreibung                                                     |\n",
    " |-----------|------------------------------------------------------------------|\n",
    " | ``.``     | Buchstabe außer einem Zeilenumbruch (\\n)                   |\n",
    " | ``\\d``    | Dezimalzahl (äquivalent zu [0-9])                           |\n",
    " | ``\\D``    | Zeichen, dass keine Zahl ist (äquivalent zu [^0-9])        |\n",
    " | ``\\s``    | Whitespace, also Leerzeichen, Tabs, Newlines etc.                |\n",
    " | ``\\S``    | Alle Zeichen außer Whitespace                         |\n",
    " | ``\\w``    | alphanumerische Zeichen (äquivalent zu [a-zA-Z0-9_])       |\n",
    " | ``\\W``    | nicht-alphanumerische Zeichen (äquivalent zu [^a-zA-Z0-9_])|\n",
    " | ``\\b``    | Wortgrenze (Boundary), z.B. trifft `\\b\\d\\b` nur reine Ziffernfolgen    |\n",
    " | ``\\B``    | keine Wortgrenze        |\n",
    " | ``[...]`` | Auflistung von erlaubten Zeichen (matcht ein Zeichen)            |\n",
    " | ``^``     | NOT (bei Verwendung innerhalb einer Auflistung)      |\n",
    " | ``\\/``    | Matcht das Zeichen /                                             |\n",
    " | ``\\``    | Matcht das Zeichen \\                                              |\n",
    " | ``^ und $``    |\t ^ und $ matchen den Beginn bzw. das Ende eines Strings     |\n",
    " | ``\\t, \\n, \\r`` | \t Matchen Tab, neue Zeile und  Return\n"
   ]
  },
  {
   "cell_type": "markdown",
   "metadata": {},
   "source": [
    "<a id='regexpython'></a>\n",
    "## Reguläre Ausdrücke in Python\n",
    "\n",
    "Um in Python mit regulären Ausdrücken arbeiten zu können, muss zuerst das Modul ``re`` (https://docs.python.org/3/library/re.html) importiert werden. Es bietet mehrere Methoden, mit deren Hilfe Strings nach regulären Ausdrücken durchsucht werden können:\n",
    "\n",
    "- ``re.match()``: Suche am Anfang des Strings\n",
    "- ``re.search()``: Suche im gesamten String\n",
    "- ``re.findall()``: Ausgabe aller Treffer im String\n",
    "- ``re.sub()``: Ersetzen von regulären Ausdrücken\n",
    "- ``re.split()``: Splitten anhand regulärer Ausdrücke\n",
    "- ``re.compile()``: Erstellen wiederverwendbarer Pattern-Objekte"
   ]
  },
  {
   "cell_type": "markdown",
   "metadata": {},
   "source": [
    "Die ersten vier Funktionen werden hier kurz besprochen.\n",
    "\n",
    "Details dazu hier: https://docs.python.org/3/howto/regex.html#the-backslash-plague"
   ]
  },
  {
   "cell_type": "markdown",
   "metadata": {},
   "source": [
    "**Raw-Strings**\n",
    "\n",
    "Um mit den Sonderbedeutungen insbesondere des Backslashs umzugehen, sollten reguläre Ausdrücke als Raw-Strings spezifiziert werden, gekennzeichnet durch ein vorangestelltes `r`. Das Verhalten ist ähnlich wie das '@'-Zeichen bei Strings C#: Backslashes werden im String nicht sonderbehandelt."
   ]
  },
  {
   "cell_type": "code",
   "execution_count": null,
   "metadata": {
    "ExecuteTime": {
     "end_time": "2018-09-11T08:56:55.831515Z",
     "start_time": "2018-09-11T08:56:55.814515Z"
    },
    "collapsed": true
   },
   "outputs": [],
   "source": [
    "s1 = '\\n'\n",
    "print(s1, len(s1))\n",
    "\n",
    "s2 = r'\\n'\n",
    "print(s2, len(s2))\n"
   ]
  },
  {
   "cell_type": "markdown",
   "metadata": {},
   "source": [
    "### re.match(pattern, string)\n",
    "\n",
    "Die Methode sucht ein passendes Ergebnis am Anfang des Strings. "
   ]
  },
  {
   "cell_type": "code",
   "execution_count": null,
   "metadata": {
    "ExecuteTime": {
     "end_time": "2018-09-11T08:56:55.848512Z",
     "start_time": "2018-09-11T08:56:55.834516Z"
    },
    "collapsed": true
   },
   "outputs": [],
   "source": [
    "import re\n",
    "match = re.match(r'Die.*sitzt', 'Die Katze sitzt auf dem Dach.')"
   ]
  },
  {
   "cell_type": "markdown",
   "metadata": {},
   "source": [
    "Das zurückgegebene [Match-Objekt](https://docs.python.org/3/library/re.html#match-objects) enthält den passenden regulären Ausdruck:"
   ]
  },
  {
   "cell_type": "code",
   "execution_count": null,
   "metadata": {
    "ExecuteTime": {
     "end_time": "2018-09-11T08:56:55.863518Z",
     "start_time": "2018-09-11T08:56:55.852514Z"
    },
    "collapsed": true
   },
   "outputs": [],
   "source": [
    "match.group(0)"
   ]
  },
  {
   "cell_type": "markdown",
   "metadata": {},
   "source": [
    "Da `match` nur am Anfang des Strings sucht, liefert dieser Aufruf kein Ergebnis, d.h. `None`."
   ]
  },
  {
   "cell_type": "code",
   "execution_count": null,
   "metadata": {
    "ExecuteTime": {
     "end_time": "2018-09-11T08:56:55.877515Z",
     "start_time": "2018-09-11T08:56:55.867513Z"
    },
    "collapsed": true
   },
   "outputs": [],
   "source": [
    "no_match = re.match(r'Kat.*', 'Die Katze sitzt auf dem Dach.')\n",
    "print(no_match)"
   ]
  },
  {
   "cell_type": "markdown",
   "metadata": {},
   "source": [
    "Über Klammer-Ausdrücke kann man sich Teile des gematchten Ausdrucks (Gruppen) ausgeben lassen. `group(0)` beinhaltet dabei immer den gesamten Ausdruck."
   ]
  },
  {
   "cell_type": "code",
   "execution_count": null,
   "metadata": {
    "ExecuteTime": {
     "end_time": "2018-09-11T08:56:55.903513Z",
     "start_time": "2018-09-11T08:56:55.881517Z"
    },
    "collapsed": true,
    "scrolled": true
   },
   "outputs": [],
   "source": [
    "match = re.match(r'Die (.*) sitzt auf dem (.*)\\.', 'Die Katze sitzt auf dem Dach.')\n",
    "\n",
    "match.groups()\n",
    "match.group(0)\n",
    "match.group(1)\n",
    "match.group(2)\n"
   ]
  },
  {
   "cell_type": "markdown",
   "metadata": {},
   "source": [
    "### re.search(pattern, string)\n",
    "``search()`` ist etwas allgemeiner als ``match()``, da Ergebnisse nicht auf den Beginn des Suchstrings limitiert sind, arbeitet aber ansonsten genauso:"
   ]
  },
  {
   "cell_type": "code",
   "execution_count": null,
   "metadata": {
    "ExecuteTime": {
     "end_time": "2018-09-11T08:56:55.915518Z",
     "start_time": "2018-09-11T08:56:55.906513Z"
    },
    "collapsed": true
   },
   "outputs": [],
   "source": [
    "import re\n",
    "match = re.search(r'Katze \\w+', 'Die Katze sitzt auf dem Dach.')\n",
    "print(match)"
   ]
  },
  {
   "cell_type": "code",
   "execution_count": null,
   "metadata": {
    "ExecuteTime": {
     "end_time": "2018-09-11T08:56:55.938516Z",
     "start_time": "2018-09-11T08:56:55.919522Z"
    },
    "collapsed": true
   },
   "outputs": [],
   "source": [
    "match.group(0)"
   ]
  },
  {
   "cell_type": "markdown",
   "metadata": {},
   "source": [
    "###  re.findall (pattern, string):\n",
    "Die Methode ``findall()`` liefert eine Liste mit allen auf den regulären Ausdruck passenden Ergebnissen. Dabei bestehen keine Einschränkungen hinsichtlich Anfang und Ende der Suche. "
   ]
  },
  {
   "cell_type": "code",
   "execution_count": null,
   "metadata": {
    "ExecuteTime": {
     "end_time": "2018-09-11T08:56:55.956518Z",
     "start_time": "2018-09-11T08:56:55.942518Z"
    },
    "collapsed": true
   },
   "outputs": [],
   "source": [
    "import re\n",
    "\n",
    "digits = re.findall(r'[0-9]', '90489 Nürnberg, Kesslerplatz 12')\n",
    "print(digits)\n",
    "\n",
    "numbers = re.findall(r'[0-9]+', '90489 Nürnberg, Kesslerplatz 12')\n",
    "print(numbers)\n",
    "\n",
    "# Domänen-Name aus Emails extrahieren\n",
    "domains=re.findall(r'@\\w+.([\\w\\.]+)','abc.test@gmail.com, xyz@web.de, asdf@stuff.co.uk')\n",
    "print(domains)\n",
    "\n",
    "auto = re.findall(r'[Aa]utos?', 'Das Auto stand auf dem Parkplatz automatisch neben anderen Autos.')\n",
    "print(auto)"
   ]
  },
  {
   "cell_type": "markdown",
   "metadata": {},
   "source": [
    "**Aufgabe**\n",
    "\n",
    "Extrahieren Sie alle Wörter aus dem folgenden Text.\n",
    "Leer- und Sonderzeichen sollen im Ergebnis nicht enthalten sein. Nutzen Sie den Klassen-Operator für alphanumerische Zeichen."
   ]
  },
  {
   "cell_type": "code",
   "execution_count": null,
   "metadata": {
    "ExecuteTime": {
     "end_time": "2018-09-11T08:56:55.977514Z",
     "start_time": "2018-09-11T08:56:55.961516Z"
    },
    "collapsed": true,
    "nbgrader": {
     "grade": true,
     "grade_id": "cell-95d8b9d39ea9079d",
     "locked": false,
     "points": 0,
     "schema_version": 1,
     "solution": true
    }
   },
   "outputs": [],
   "source": [
    "text = 'For sale: baby shoes, never worn.'\n",
    "# words = re.findall\n",
    "\n",
    "### BEGIN SOLUTION\n",
    "words = re.findall(r\"\\w+\", text) \n",
    "print(words)\n",
    "### END SOLUTION"
   ]
  },
  {
   "cell_type": "markdown",
   "metadata": {
    "ExecuteTime": {
     "end_time": "2018-03-17T10:23:50.957423Z",
     "start_time": "2018-03-17T10:23:50.951405Z"
    }
   },
   "source": [
    "**Aufgabe**\n",
    "\n",
    "Extrahieren Sie alle Wörter mit 'tz' aus dem folgenden Text, d.h. \n",
    "\n",
    "    ['Lutz', 'Katze', 'Matratze', 'sitzen']"
   ]
  },
  {
   "cell_type": "code",
   "execution_count": null,
   "metadata": {
    "ExecuteTime": {
     "end_time": "2018-09-11T08:56:56.000515Z",
     "start_time": "2018-09-11T08:56:55.982514Z"
    },
    "collapsed": true,
    "nbgrader": {
     "grade": true,
     "grade_id": "cell-f3cf092ebb12a80f",
     "locked": false,
     "points": 0,
     "schema_version": 1,
     "solution": true
    }
   },
   "outputs": [],
   "source": [
    "text = 'Lutz sieht die Katze auf der Matratze sitzen.'\n",
    "\n",
    "### BEGIN SOLUTION\n",
    "result = re.findall(r'\\w*tz\\w*', text)\n",
    "print(result)\n",
    "### END SOLUTION"
   ]
  },
  {
   "cell_type": "markdown",
   "metadata": {},
   "source": [
    "###  re.sub(pattern, replacement, string):\n",
    "\n",
    "Mit ``sub()`` (Substitute) kann kein ein regulärere Ausdruck in einem String ersetzt werden. Die Methode verallgemeinert die Replace-Funktion bei Strings."
   ]
  },
  {
   "cell_type": "code",
   "execution_count": null,
   "metadata": {
    "ExecuteTime": {
     "end_time": "2018-09-11T08:56:56.017515Z",
     "start_time": "2018-09-11T08:56:56.003515Z"
    },
    "collapsed": true
   },
   "outputs": [],
   "source": [
    "result = re.sub(r'[0-9]+', '***', 'Die Geheimzahl ist: 4711')\n",
    "print(result)"
   ]
  },
  {
   "cell_type": "markdown",
   "metadata": {},
   "source": [
    "### Flags\n",
    "\n",
    "Die Arbeitsweise der `re`-Methoden lässt sich über Flags steuern. Zwei Beispiele dazu werden hier gezeigt.\n",
    "\n",
    "Details dazu hier: https://docs.python.org/3/howto/regex.html#compilation-flags"
   ]
  },
  {
   "cell_type": "code",
   "execution_count": null,
   "metadata": {
    "ExecuteTime": {
     "end_time": "2018-09-11T08:56:56.058550Z",
     "start_time": "2018-09-11T08:56:56.021514Z"
    },
    "collapsed": true
   },
   "outputs": [],
   "source": [
    "text = \"\"\"\n",
    "War einmal ein Bumerang;\n",
    "War ein weniges zu lang.\n",
    "Bumerang flog ein Stück,\n",
    "Aber kam nicht mehr zurück.\n",
    "Publikum - noch stundenlang -\n",
    "Wartete auf Bumerang.\n",
    "\"\"\"\n",
    "\n",
    "# findet nichts\n",
    "re.findall(r'Stück.*zurück', text)\n",
    "# re.DOTALL lässt den Punkt auch über Zeilenenden suchen\n",
    "re.findall(r'Stück.*zurück', text, flags=re.DOTALL)\n",
    "\n",
    "# findet nichts, da nur \"War\" vorkommt\n",
    "re.findall(r'war', text)\n",
    "# re.IGNORECASE ignoriert Groß- und Kleinschreibung\n",
    "re.findall(r'war\\w*', text, flags=re.IGNORECASE)\n"
   ]
  },
  {
   "cell_type": "markdown",
   "metadata": {},
   "source": [
    "### Greedy und Reluctant Behavior\n",
    "\n",
    "Angenommen aus dem String ``Englisch: \"Hello\", Französisch: \"Salut\"``, sollen die beiden Grußformeln extrahiert werden. Man könnte vermuten, dass sich die Suche relativ einfach mit dem Ausdruck ``\"(.+)\"`` (öffnendes Anführungszeichen, gesuchte Zeichenfolge, schließendes Anführungszeichen) bewerkstelligen lässt. Dies ist jedoch nicht der Fall. Tatsächlich liefert `findall` folgendes Ergebnis:"
   ]
  },
  {
   "cell_type": "code",
   "execution_count": null,
   "metadata": {
    "ExecuteTime": {
     "end_time": "2018-09-11T08:56:56.072517Z",
     "start_time": "2018-09-11T08:56:56.065515Z"
    },
    "collapsed": true
   },
   "outputs": [],
   "source": [
    "text = 'Englisch: \"Hello\", Französisch: \"Salut\"'\n",
    "\n",
    "greetings = re.findall(r'\"(.+)\"', text)\n",
    "print(greetings)"
   ]
  },
  {
   "cell_type": "markdown",
   "metadata": {},
   "source": [
    "Der Grund dafür besteht darin, dass standardmäßig ein sogenanntes \"Greedy Behavior\" dem Quantor zugrundeliegt. Dabei versucht der Quantor soviel wie möglich zu matchen und das größtmögliche Suchergebnis zu liefern. Es wird daher alles bis zum letzten Anführungszeichen (dem nach \"Salut\") getroffen. \n",
    "\n",
    "Um den kleinstmöglichen Match zu finden (\"Reluctant Behavior\") muss ein ``?`` an den Quantor angehängt werden (beispielsweise ``*?`` or ``+?``):"
   ]
  },
  {
   "cell_type": "code",
   "execution_count": null,
   "metadata": {
    "ExecuteTime": {
     "end_time": "2018-09-11T08:56:56.092515Z",
     "start_time": "2018-09-11T08:56:56.080516Z"
    },
    "collapsed": true
   },
   "outputs": [],
   "source": [
    "greetings = re.findall(r'\"(.+?)\"', text)\n",
    "print(greetings)"
   ]
  },
  {
   "cell_type": "markdown",
   "metadata": {},
   "source": [
    "# Ende <div class=\"tocSkip\">"
   ]
  }
 ],
 "metadata": {
  "kernelspec": {
   "display_name": "Python 3",
   "language": "python",
   "name": "python3"
  },
  "language_info": {
   "codemirror_mode": {
    "name": "ipython",
    "version": 3
   },
   "file_extension": ".py",
   "mimetype": "text/x-python",
   "name": "python",
   "nbconvert_exporter": "python",
   "pygments_lexer": "ipython3",
   "version": "3.6.6"
  },
  "toc": {
   "nav_menu": {},
   "number_sections": true,
   "sideBar": false,
   "skip_h1_title": true,
   "title_cell": "Table of Contents",
   "title_sidebar": "Contents",
   "toc_cell": true,
   "toc_position": {},
   "toc_section_display": true,
   "toc_window_display": false
  }
 },
 "nbformat": 4,
 "nbformat_minor": 2
}
